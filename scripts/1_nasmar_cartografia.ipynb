{
 "cells": [
  {
   "cell_type": "markdown",
   "metadata": {},
   "source": [
    "# Situación geográfica del problema\n",
    "\n",
    "En este `jupyter` mostramos algunos mapas de Honduras y los municipios de NASMAR para:\n",
    "\n",
    "* Analizar la Cartografía Base que está introducida en las bases de datos de gvSIG-Fonsagua (los ficheros `fonsagua.sqlite`)\n",
    "* Ubicar la zona de trabajo\n",
    "* Generar algunas variables, funciones, etc... que se puedan emplear en el resto de los análisis y fases del trabajo\n",
    "\n",
    "_Nota: Cuando hacemos referencia al INE es al censo oficial (del 2002) del Instituto Nacional de Estadística de Honduras_\n",
    "\n",
    "En la base de datos de Fonsagua tenemos las siguientes capas de cartografía base de límites administrativos:\n",
    "\n",
    "* `departamentos`. Con todos los departamentos de Honduras\n",
    "* `municipios`. Son todos los de Valle y Choluteca\n",
    "* `aldeas`. Son todas las de Valle y Choluteca. Los códigos y nombres son del INE\n",
    "* `caserios`. Son todos los del INE los pertenecientes a 9 municipios. Los 7 de NASMAR + Choluteca ('0601') + Alianza ('1702').\n",
    "\n",
    "\n",
    "La zona de trabajo de NASMAR son 7 municipios de (de un total de 25) pertenecientes a los departamentos de Valle ('17') y Choluteca ('06'):\n",
    "\n",
    "* '0606', 'El Triunfo'\n",
    "* '0607', 'Marcovia'\n",
    "* '0609', 'Namasigue'\n",
    "* '1701', 'Nacaome'\n",
    "* '1703', 'Amapala'\n",
    "* '1706', 'Goascaran'\n",
    "* '1709', 'San Lorenzo'"
   ]
  },
  {
   "cell_type": "code",
   "execution_count": 1,
   "metadata": {},
   "outputs": [],
   "source": [
    "# Configuración básica de jupyter, pandas, ...\n",
    "# e importación de librerías que necesitaremos durante el análisis\n",
    "\n",
    "# https://medium.com/@1522933668924/using-matplotlib-in-jupyter-notebooks-comparing-methods-and-some-tips-python-c38e85b40ba1\n",
    "# Para hacer los mapas interactivos\n",
    "\n",
    "# %matplotlib widget \n",
    "%matplotlib inline \n",
    "import numpy as np\n",
    "from IPython.display import display, HTML, Markdown\n",
    "# Ejemplos de uso\n",
    "# display(HTML('<h2 style=\"color:red;\">Subtitulo \"YYY - NOMBRE\"</h2>'))\n",
    "# display(Markdown(\"# Título principal\"))\n",
    "# display(HTML(df.describe().to_html()))  # muestra todos los datos\n",
    "import pandas\n",
    "from ietl import pandas_utils\n",
    "\n",
    "from ietl.geopandas_utils import (\n",
    "    get_dataframe_from_spatialite_table,\n",
    "    plot_polygon_labels,\n",
    ")\n",
    "import geopandas as gpd\n",
    "\n",
    "pandas.options.mode.use_inf_as_na = True\n",
    "# http://songhuiming.github.io/pages/2017/04/02/jupyter-and-pandas-display/\n",
    "# pandas.set_option('display.max_rows', 500)\n",
    "# pandas.set_option('display.max_columns', 500)\n",
    "\n",
    "\n",
    "# https://ipython.readthedocs.io/en/stable/config/extensions/autoreload.html\n",
    "# Si se está trabajando con módulos externos usar %autoreload 2 evita tener que\n",
    "# recargar a mano. %autoreload 0 lo desactiva\n",
    "%load_ext autoreload\n",
    "%autoreload 2\n",
    "\n",
    "\n",
    "\n",
    "# Ejecuta el .ipyndb referenciando como si fuera en este propio Lab\n",
    "# Todas las variables del otro pasan a estar disponible en este\n",
    "# Cualquier salida por pantalla del otro se muestra en los resultados \n",
    "# de la celda donde se ejecuta el %run\n",
    "# if __name__ == '__main__' and '__file__' not in globals():\n",
    "#     print(\"Este código sólo se ejecuta cuando lo llamo directamente y no a través de un `%run`\")\n",
    "# %run nasmar_cartografia.ipynb"
   ]
  },
  {
   "cell_type": "code",
   "execution_count": null,
   "metadata": {},
   "outputs": [],
   "source": [
    "from nasmar import common_left_field, common_right_field\n",
    "import nasmar\n",
    "\n",
    "sqlite_path = \"191208_fonsagua_todos_municipios.sqlite\"\n",
    "excel_datos_pdm_path = \"pdm.xlsx\""
   ]
  },
  {
   "cell_type": "code",
   "execution_count": 2,
   "metadata": {},
   "outputs": [
    {
     "data": {
      "application/vnd.jupyter.widget-view+json": {
       "model_id": "67cc8a888fd047a8987ab44e43c2970d",
       "version_major": 2,
       "version_minor": 0
      },
      "text/plain": [
       "Canvas(toolbar=Toolbar(toolitems=[('Home', 'Reset original view', 'home', 'home'), ('Back', 'Back to previous …"
      ]
     },
     "metadata": {},
     "output_type": "display_data"
    }
   ],
   "source": [
    "# DEPARTAMENTOS\n",
    "\n",
    "departamentos_plot_options = {\n",
    "    \"edgecolor\": \"lightgrey\", # \"black\"\n",
    "    \"color\": \"whitesmoke\", #None,\n",
    "    \"alpha\": 0.5,\n",
    "    \"linewidth\": 0.5, # None\n",
    "}\n",
    "departamentos = nasmar.get_departamentos_bd()\n",
    "ax = departamentos.plot(figsize=(10, 10), **departamentos_plot_options)\n",
    "ax.set_axis_off()\n",
    "\n",
    "plot_polygon_labels(departamentos, \"nombre\", {\"fontsize\": 8})\n",
    "# display(departamentos[[\"codigo\", \"nombre\"]])"
   ]
  },
  {
   "cell_type": "code",
   "execution_count": 1,
   "metadata": {},
   "outputs": [
    {
     "ename": "NameError",
     "evalue": "name 'nasmar' is not defined",
     "output_type": "error",
     "traceback": [
      "\u001b[0;31m---------------------------------------------------------------------------\u001b[0m",
      "\u001b[0;31mNameError\u001b[0m                                 Traceback (most recent call last)",
      "\u001b[0;32m<ipython-input-1-08d7e9744661>\u001b[0m in \u001b[0;36m<module>\u001b[0;34m\u001b[0m\n\u001b[1;32m      1\u001b[0m \u001b[0;31m# MUNICIPIOS\u001b[0m\u001b[0;34m\u001b[0m\u001b[0;34m\u001b[0m\u001b[0;34m\u001b[0m\u001b[0m\n\u001b[1;32m      2\u001b[0m \u001b[0;34m\u001b[0m\u001b[0m\n\u001b[0;32m----> 3\u001b[0;31m \u001b[0mmunicipios\u001b[0m \u001b[0;34m=\u001b[0m \u001b[0mnasmar\u001b[0m\u001b[0;34m.\u001b[0m\u001b[0mget_municipios_bd\u001b[0m\u001b[0;34m(\u001b[0m\u001b[0;34m)\u001b[0m\u001b[0;34m\u001b[0m\u001b[0;34m\u001b[0m\u001b[0m\n\u001b[0m\u001b[1;32m      4\u001b[0m \u001b[0mnasmar\u001b[0m\u001b[0;34m.\u001b[0m\u001b[0mplot_municipios\u001b[0m\u001b[0;34m(\u001b[0m\u001b[0mmunicipios\u001b[0m\u001b[0;34m)\u001b[0m\u001b[0;34m\u001b[0m\u001b[0;34m\u001b[0m\u001b[0m\n\u001b[1;32m      5\u001b[0m \u001b[0;34m\u001b[0m\u001b[0m\n",
      "\u001b[0;31mNameError\u001b[0m: name 'nasmar' is not defined"
     ]
    }
   ],
   "source": [
    "# MUNICIPIOS\n",
    "\n",
    "municipios = nasmar.get_municipios_bd()\n",
    "nasmar.plot_municipios(municipios)\n",
    "\n",
    "# display(municipios[[\"codigo\", \"nombre\"]])\n",
    "# municipios.to_file(\"municipios.shp\", encoding = 'utf-8')\n"
   ]
  },
  {
   "cell_type": "code",
   "execution_count": 4,
   "metadata": {},
   "outputs": [
    {
     "data": {
      "application/vnd.jupyter.widget-view+json": {
       "model_id": "1f3eb4f92d014914b1573e41e31c819b",
       "version_major": 2,
       "version_minor": 0
      },
      "text/plain": [
       "Canvas(toolbar=Toolbar(toolitems=[('Home', 'Reset original view', 'home', 'home'), ('Back', 'Back to previous …"
      ]
     },
     "metadata": {},
     "output_type": "display_data"
    }
   ],
   "source": [
    "# ALDEAS\n",
    "\n",
    "# En bd llamamos a esta tabla \"cantones\" por la terminología de El Salvador.\n",
    "aldeas = nasmar.get_aldeas_bd()\n",
    "\n",
    "aldeas_plot_options = {\n",
    "    \"edgecolor\": \"lightgrey\", # \"black\"\n",
    "    # \"color\": \"whitesmoke\", #None,\n",
    "    \"alpha\": 0.5,\n",
    "    \"linewidth\": 0.5, # None\n",
    "    \"column\": \"nombre\",\n",
    "}\n",
    "aldeas_ax = aldeas.plot(figsize=(10, 10), **aldeas_plot_options)\n",
    "aldeas_ax.set_axis_off()\n",
    "plot_polygon_labels(aldeas, \"nombre\", {\"fontsize\": 8})\n",
    "# display(aldeas[[\"codigo\", \"nombre\"]])"
   ]
  },
  {
   "cell_type": "code",
   "execution_count": 5,
   "metadata": {},
   "outputs": [
    {
     "data": {
      "text/plain": [
       "Counter({'0601': 298,\n",
       "         '0606': 130,\n",
       "         '0607': 138,\n",
       "         '0609': 86,\n",
       "         '1701': 199,\n",
       "         '1702': 42,\n",
       "         '1703': 57,\n",
       "         '1706': 82,\n",
       "         '1709': 40})"
      ]
     },
     "metadata": {},
     "output_type": "display_data"
    },
    {
     "name": "stderr",
     "output_type": "stream",
     "text": [
      "WARNING:nasmar:Hay municipios faltantes o sobrantes. {'1702', '0601'}\n"
     ]
    },
    {
     "data": {
      "text/plain": [
       "Counter({'0606': 130,\n",
       "         '0607': 138,\n",
       "         '0609': 86,\n",
       "         '1701': 199,\n",
       "         '1703': 57,\n",
       "         '1706': 82,\n",
       "         '1709': 40})"
      ]
     },
     "metadata": {},
     "output_type": "display_data"
    },
    {
     "data": {
      "application/vnd.jupyter.widget-view+json": {
       "model_id": "36ac5d130c584f03a09a8bbad3f7e966",
       "version_major": 2,
       "version_minor": 0
      },
      "text/plain": [
       "Canvas(toolbar=Toolbar(toolitems=[('Home', 'Reset original view', 'home', 'home'), ('Back', 'Back to previous …"
      ]
     },
     "metadata": {},
     "output_type": "display_data"
    },
    {
     "data": {
      "text/html": [
       "<div>\n",
       "<style scoped>\n",
       "    .dataframe tbody tr th:only-of-type {\n",
       "        vertical-align: middle;\n",
       "    }\n",
       "\n",
       "    .dataframe tbody tr th {\n",
       "        vertical-align: top;\n",
       "    }\n",
       "\n",
       "    .dataframe thead th {\n",
       "        text-align: right;\n",
       "    }\n",
       "</style>\n",
       "<table border=\"1\" class=\"dataframe\">\n",
       "  <thead>\n",
       "    <tr style=\"text-align: right;\">\n",
       "      <th></th>\n",
       "      <th>codigo</th>\n",
       "      <th>nombre</th>\n",
       "      <th>pob_total</th>\n",
       "      <th>categoria</th>\n",
       "      <th>geom</th>\n",
       "      <th>tot_ancianos</th>\n",
       "    </tr>\n",
       "  </thead>\n",
       "  <tbody>\n",
       "    <tr>\n",
       "      <td>298</td>\n",
       "      <td>060601001</td>\n",
       "      <td>El Triunfo</td>\n",
       "      <td>6577.0</td>\n",
       "      <td>Cabecera Municipal</td>\n",
       "      <td>POINT (500739.477 1450555.522)</td>\n",
       "      <td>398.0</td>\n",
       "    </tr>\n",
       "    <tr>\n",
       "      <td>299</td>\n",
       "      <td>060601002</td>\n",
       "      <td>Colonia Los Laureles</td>\n",
       "      <td>163.0</td>\n",
       "      <td>Caserío</td>\n",
       "      <td>POINT (501516.159 1446870.407)</td>\n",
       "      <td>12.0</td>\n",
       "    </tr>\n",
       "    <tr>\n",
       "      <td>300</td>\n",
       "      <td>060601003</td>\n",
       "      <td>El Jocote</td>\n",
       "      <td>243.0</td>\n",
       "      <td>Caserío</td>\n",
       "      <td>POINT (498777.696 1452060.116)</td>\n",
       "      <td>8.0</td>\n",
       "    </tr>\n",
       "    <tr>\n",
       "      <td>301</td>\n",
       "      <td>060601006</td>\n",
       "      <td>El Tejar</td>\n",
       "      <td>187.0</td>\n",
       "      <td>Caserío</td>\n",
       "      <td>POINT (500771.121 1451864.772)</td>\n",
       "      <td>14.0</td>\n",
       "    </tr>\n",
       "    <tr>\n",
       "      <td>302</td>\n",
       "      <td>060601007</td>\n",
       "      <td>Hacienda La Florida</td>\n",
       "      <td>11.0</td>\n",
       "      <td>Caserío</td>\n",
       "      <td>POINT (500962.135 1448070.402)</td>\n",
       "      <td>0.0</td>\n",
       "    </tr>\n",
       "    <tr>\n",
       "      <td>...</td>\n",
       "      <td>...</td>\n",
       "      <td>...</td>\n",
       "      <td>...</td>\n",
       "      <td>...</td>\n",
       "      <td>...</td>\n",
       "      <td>...</td>\n",
       "    </tr>\n",
       "    <tr>\n",
       "      <td>1067</td>\n",
       "      <td>170910003</td>\n",
       "      <td>Hacienda La Finca</td>\n",
       "      <td>0.0</td>\n",
       "      <td>Caserío</td>\n",
       "      <td>POINT (452896.094 1491583.655)</td>\n",
       "      <td>0.0</td>\n",
       "    </tr>\n",
       "    <tr>\n",
       "      <td>1068</td>\n",
       "      <td>170910004</td>\n",
       "      <td>La Finca o El Chagüite</td>\n",
       "      <td>216.0</td>\n",
       "      <td>Caserío</td>\n",
       "      <td>POINT (453253.198 1491315.366)</td>\n",
       "      <td>10.0</td>\n",
       "    </tr>\n",
       "    <tr>\n",
       "      <td>1069</td>\n",
       "      <td>170910005</td>\n",
       "      <td>Las Lomas</td>\n",
       "      <td>16.0</td>\n",
       "      <td>Caserío</td>\n",
       "      <td>POINT (454343.233 1491349.274)</td>\n",
       "      <td>2.0</td>\n",
       "    </tr>\n",
       "    <tr>\n",
       "      <td>1070</td>\n",
       "      <td>170910006</td>\n",
       "      <td>Las Pilas</td>\n",
       "      <td>85.0</td>\n",
       "      <td>Caserío</td>\n",
       "      <td>POINT (455132.407 1491896.803)</td>\n",
       "      <td>3.0</td>\n",
       "    </tr>\n",
       "    <tr>\n",
       "      <td>1071</td>\n",
       "      <td>170910007</td>\n",
       "      <td>Volcancito</td>\n",
       "      <td>138.0</td>\n",
       "      <td>Caserío</td>\n",
       "      <td>POINT (455282.246 1492448.337)</td>\n",
       "      <td>5.0</td>\n",
       "    </tr>\n",
       "  </tbody>\n",
       "</table>\n",
       "<p>732 rows × 6 columns</p>\n",
       "</div>"
      ],
      "text/plain": [
       "         codigo                  nombre  pob_total           categoria  \\\n",
       "298   060601001              El Triunfo     6577.0  Cabecera Municipal   \n",
       "299   060601002    Colonia Los Laureles      163.0             Caserío   \n",
       "300   060601003               El Jocote      243.0             Caserío   \n",
       "301   060601006                El Tejar      187.0             Caserío   \n",
       "302   060601007     Hacienda La Florida       11.0             Caserío   \n",
       "...         ...                     ...        ...                 ...   \n",
       "1067  170910003       Hacienda La Finca        0.0             Caserío   \n",
       "1068  170910004  La Finca o El Chagüite      216.0             Caserío   \n",
       "1069  170910005               Las Lomas       16.0             Caserío   \n",
       "1070  170910006               Las Pilas       85.0             Caserío   \n",
       "1071  170910007              Volcancito      138.0             Caserío   \n",
       "\n",
       "                                geom  tot_ancianos  \n",
       "298   POINT (500739.477 1450555.522)         398.0  \n",
       "299   POINT (501516.159 1446870.407)          12.0  \n",
       "300   POINT (498777.696 1452060.116)           8.0  \n",
       "301   POINT (500771.121 1451864.772)          14.0  \n",
       "302   POINT (500962.135 1448070.402)           0.0  \n",
       "...                              ...           ...  \n",
       "1067  POINT (452896.094 1491583.655)           0.0  \n",
       "1068  POINT (453253.198 1491315.366)          10.0  \n",
       "1069  POINT (454343.233 1491349.274)           2.0  \n",
       "1070  POINT (455132.407 1491896.803)           3.0  \n",
       "1071  POINT (455282.246 1492448.337)           5.0  \n",
       "\n",
       "[732 rows x 6 columns]"
      ]
     },
     "metadata": {},
     "output_type": "display_data"
    }
   ],
   "source": [
    "# CASERIOS\n",
    "# En bd llamamos a esta tabla \"caserios_comunidades\"\n",
    "\n",
    "caserios = nasmar.get_caserios_bd()\n",
    "\n",
    "# Contamos el número de elementos del df que tenemos por municipio\n",
    "display(nasmar.number_of_elements_by_council(caserios, \"codigo\"))\n",
    "# Eliminamos los caserios que no están en los municipios NASMAR\n",
    "nasmar.drop_elements_not_in_nasmar_councils(caserios, \"codigo\")\n",
    "# Volvemos a hacer el conteo    \n",
    "display(nasmar.number_of_elements_by_council(caserios, \"codigo\"))\n",
    "\n",
    "\n",
    "caserios_plot_options = {\n",
    "    \"edgecolor\": \"lightgrey\", # \"black\"\n",
    "    # \"color\": \"whitesmoke\", #None,\n",
    "    \"alpha\": 0.5,\n",
    "    \"linewidth\": 0.5, # None\n",
    "    # \"column\": \"nombre\",\n",
    "}\n",
    "caserios_ax = caserios.plot(figsize=(10, 10), **caserios_plot_options)\n",
    "caserios_ax.set_axis_off()\n",
    "# plot_polygon_labels(caserios, \"nombre\", {\"fontsize\": 8})\n",
    "display(caserios)\n",
    "# caserios.to_file(\"caserios.shp\", encoding = 'utf-8')\n"
   ]
  }
 ],
 "metadata": {
  "kernelspec": {
   "display_name": "Python 3",
   "language": "python",
   "name": "python3"
  },
  "language_info": {
   "codemirror_mode": {
    "name": "ipython",
    "version": 3
   },
   "file_extension": ".py",
   "mimetype": "text/x-python",
   "name": "python",
   "nbconvert_exporter": "python",
   "pygments_lexer": "ipython3",
   "version": "3.6.8"
  }
 },
 "nbformat": 4,
 "nbformat_minor": 4
}
